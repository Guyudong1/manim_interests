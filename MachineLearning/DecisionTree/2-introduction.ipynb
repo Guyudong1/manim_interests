{
 "cells": [
  {
   "cell_type": "markdown",
   "metadata": {},
   "source": [
    "# 🎮 Manim 动画：四大名著猜名字游戏\n",
    "微信对话风格呈现，模仿 A/B 之间的对话猜测人物，最终猜中孙悟空。"
   ]
  },
  {
   "cell_type": "code",
   "execution_count": null,
   "metadata": {},
   "outputs": [],
   "source": [
    "from manim import *"
   ]
  },
  {
   "cell_type": "code",
   "execution_count": null,
   "metadata": {},
   "outputs": [],
   "source": [
    "class GuessNameGame(Scene):\n",
    "    def construct(self):\n",
    "        title = Text(\"游戏-猜四大名著里的名字\", font_size=40, weight=BOLD).to_edge(UP)\n",
    "        title.shift(UP * 1.5)\n",
    "        self.play(title.animate.shift(DOWN * 1.5), run_time=0.8)\n",
    "        self.wait(0.7)\n",
    "\n",
    "        dialog = [\n",
    "            (\"A\", \"是男的还是女的？\"),\n",
    "            (\"B\", \"男的\"),\n",
    "            (\"A\", \"是西游记的还是三国的？\"),\n",
    "            (\"B\", \"西游记的\"),\n",
    "            (\"A\", \"是师徒四人中的还是妖怪？\"),\n",
    "            (\"B\", \"师徒四人中的\"),\n",
    "            (\"A\", \"是不是孙悟空？\"),\n",
    "            (\"B\", \"√\"),\n",
    "        ]\n",
    "\n",
    "        color_a = \"#95ec69\"\n",
    "        color_b = \"#e5e5e5\"\n",
    "        y_start = 1.8\n",
    "        y_gap = 0.7\n",
    "        avatar_radius = 0.3\n",
    "\n",
    "        for i, (who, text) in enumerate(dialog):\n",
    "            y = y_start - i * y_gap\n",
    "            txt = Text(text, font_size=24, color=BLACK, weight=BOLD)\n",
    "            bubble_width = txt.width + 1.2\n",
    "            bubble_height = 0.8\n",
    "\n",
    "            if who == \"A\":\n",
    "                avatar = VGroup(\n",
    "                    Circle(radius=avatar_radius, color=BLUE, fill_opacity=1),\n",
    "                    Text(\"A\", font_size=20, weight=BOLD, color=BLACK).move_to(ORIGIN)\n",
    "                )\n",
    "                avatar.move_to(LEFT * 6 + UP * y)\n",
    "                bubble = RoundedRectangle(corner_radius=0.3, width=bubble_width, height=bubble_height,\n",
    "                                         color=color_a, fill_color=color_a, fill_opacity=1)\n",
    "                bubble.set_stroke(width=0)\n",
    "                bubble.next_to(avatar, RIGHT, buff=0.35)\n",
    "                triangle = Polygon(\n",
    "                    [0, 0, 0], [0.18, 0.09, 0], [0.18, -0.09, 0],\n",
    "                    color=color_a, fill_color=color_a, fill_opacity=1\n",
    "                ).next_to(bubble, LEFT, buff=-0.01)\n",
    "                txt.move_to(bubble)\n",
    "                group = VGroup(avatar, bubble, triangle, txt)\n",
    "            else:\n",
    "                avatar = VGroup(\n",
    "                    Circle(radius=avatar_radius, color=GREEN, fill_opacity=1),\n",
    "                    Text(\"B\", font_size=20, weight=BOLD, color=BLACK).move_to(ORIGIN)\n",
    "                )\n",
    "                avatar.move_to(RIGHT * 6 + UP * y)\n",
    "                bubble = RoundedRectangle(corner_radius=0.3, width=bubble_width, height=bubble_height,\n",
    "                                         color=color_b, fill_color=color_b, fill_opacity=1)\n",
    "                bubble.set_stroke(width=0)\n",
    "                bubble.next_to(avatar, LEFT, buff=0.35)\n",
    "                triangle = Polygon(\n",
    "                    [0, 0, 0], [-0.18, 0.09, 0], [-0.18, -0.09, 0],\n",
    "                    color=color_b, fill_color=color_b, fill_opacity=1\n",
    "                ).next_to(bubble, RIGHT, buff=-0.01)\n",
    "                if i == len(dialog) - 1:\n",
    "                    txt = Text(\"√\", font_size=32, color=GREEN, weight=BOLD).move_to(bubble)\n",
    "                else:\n",
    "                    txt.move_to(bubble)\n",
    "                group = VGroup(bubble, triangle, txt, avatar)\n",
    "\n",
    "            self.play(FadeIn(group), run_time=0.5)\n",
    "            self.wait(1)"
   ]
  },
  {
   "cell_type": "markdown",
   "metadata": {},
   "source": [
    "## ▶️ 渲染命令\n",
    "```bash\n",
    "manim -pqh guess_name_game.ipynb GuessNameGame\n",
    "```"
   ]
  }
 ],
 "metadata": {
  "kernelspec": {
   "display_name": "Python 3",
   "language": "python",
   "name": "python3"
  },
  "language_info": {
   "name": "python",
   "version": "3.10"
  }
 },
 "nbformat": 4,
 "nbformat_minor": 5
}
