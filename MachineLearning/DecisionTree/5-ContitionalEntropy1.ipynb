{
 "cells": [
  {
   "cell_type": "markdown",
   "metadata": {},
   "source": [
    "# Gender Conditional Entropy Visualization using Manim\n",
    "This notebook defines a Manim scene to visualize conditional entropy based on gender."
   ]
  },
  {
   "cell_type": "code",
   "execution_count": null,
   "metadata": {},
   "outputs": [],
   "source": [
    "# -*- coding: utf-8 -*-\n",
    "from manim import *\n",
    "from math import log2\n",
    "import locale\n",
    "from manim.utils.tex import TexTemplate\n",
    "import numpy as np\n",
    "\n",
    "# 强制使用UTF-8编码\n",
    "try:\n",
    "    locale.setlocale(locale.LC_ALL, 'en_US.UTF-8')\n",
    "except:\n",
    "    pass\n",
    "\n",
    "# 创建支持中文的LaTeX模板\n",
    "chinese_template = TexTemplate()\n",
    "chinese_template.add_to_preamble(r\"\"\"\n",
    "\\usepackage{ctex}\n",
    "\\usepackage{amsmath}\n",
    "\\usepackage{bm}\n",
    "\"\"\")\n",
    "\n",
    "config.frame_width = 20\n",
    "config.frame_height = 8"
   ]
  },
  {
   "cell_type": "code",
   "execution_count": null,
   "metadata": {},
   "outputs": [],
   "source": [
    "class GenderConditionalEntropy(Scene):\n",
    "    def construct(self):\n",
    "        # 数据准备\n",
    "        data = [\n",
    "            [\"男\", \"高\", \"0\"], [\"女\", \"中\", \"0\"], [\"男\", \"低\", \"1\"], [\"女\", \"高\", \"0\"], [\"男\", \"高\", \"0\"],\n",
    "            [\"男\", \"中\", \"0\"], [\"男\", \"中\", \"1\"], [\"女\", \"中\", \"0\"], [\"女\", \"低\", \"1\"], [\"女\", \"中\", \"0\"],\n",
    "            [\"女\", \"高\", \"0\"], [\"男\", \"低\", \"1\"], [\"女\", \"低\", \"1\"], [\"男\", \"高\", \"0\"], [\"男\", \"高\", \"0\"]\n",
    "        ]\n",
    "        headers = [\"性别\", \"经济水平\", \"是否流失\"]\n",
    "        table_data = [headers] + data\n",
    "\n",
    "        initial_formula = MathTex(\n",
    "            r\"\\bm{H(Y|X) = \\sum_{x \\in X} P(x) H(Y|X=x)}\",\n",
    "            tex_template=chinese_template,\n",
    "            font_size=48\n",
    "        ).scale(1.5)\n",
    "        self.play(Write(initial_formula))\n",
    "        self.wait(2)\n",
    "\n",
    "        main_table = Table(\n",
    "            table_data,\n",
    "            include_outer_lines=True,\n",
    "            line_config={\"stroke_width\": 3, \"color\": WHITE},\n",
    "            element_to_mobject_config={\"font_size\": 36, \"weight\": \"BOLD\"},\n",
    "        ).scale(0.55).to_edge(LEFT, buff=1.8)\n",
    "\n",
    "        final_formula = MathTex(\n",
    "            r\"\\bm{H(Y|X) = \\sum_{x \\in X} P(x) H(Y|X=x)}\",\n",
    "            tex_template=chinese_template,\n",
    "            font_size=48\n",
    "        ).move_to(np.array([3.5, 4.5, 0]))\n",
    "\n",
    "        gender_title = Text(\"性别条件熵计算:\", font=\"SimHei\", font_size=40, color=BLUE, weight=\"BOLD\")\n",
    "        gender_title.next_to(final_formula, DOWN, buff=0.5).shift(RIGHT*0.2)\n",
    "\n",
    "        male_data = [row for row in data if row[0] == \"男\"]\n",
    "        female_data = [row for row in data if row[0] == \"女\"]\n",
    "        male_count = len(male_data)\n",
    "        female_count = len(female_data)\n",
    "\n",
    "        gender_stats = MathTex(\n",
    "            r\"\\bm{\\text{男性: }\" + f\"{male_count}\" + r\"\\text{ 个} \\quad \\text{女性: }\" + f\"{female_count}\" + r\"\\text{ 个}}\",\n",
    "            tex_template=chinese_template,\n",
    "            font_size=36\n",
    "        ).next_to(gender_title, DOWN, buff=0.3)\n",
    "\n",
    "        # 后续动画见原始脚本（略）"
   ]
  },
  {
   "cell_type": "markdown",
   "metadata": {},
   "source": [
    "⚠️ 如果你想要在 Jupyter 中执行 Manim Scene，请使用如下命令（前提是配置好环境）：\n",
    "```python\n",
    "%manim -ql GenderConditionalEntropy\n",
    "```\n",
    "或使用 CLI：\n",
    "```bash\n",
    "manim -pql GenderEntropy.ipynb GenderConditionalEntropy\n",
    "```"
   ]
  }
 ],
 "metadata": {
  "kernelspec": {
   "display_name": "Python 3",
   "language": "python",
   "name": "python3"
  },
  "language_info": {
   "name": "python",
   "version": "3.10"
  }
 },
 "nbformat": 4,
 "nbformat_minor": 5
}
