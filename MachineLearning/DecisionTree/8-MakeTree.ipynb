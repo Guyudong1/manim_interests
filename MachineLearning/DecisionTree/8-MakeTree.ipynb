{
 "cells": [
  {
   "cell_type": "markdown",
   "metadata": {},
   "source": [
    "# 信息增益决策树动画演示\n",
    "使用 Manim 展示一个根据“经济水平”和“性别”进行划分的简单信息增益决策树构建过程。"
   ]
  },
  {
   "cell_type": "code",
   "execution_count": null,
   "metadata": {},
   "outputs": [],
   "source": [
    "from manim import *\n",
    "from manim.utils.tex import TexTemplate"
   ]
  },
  {
   "cell_type": "markdown",
   "metadata": {},
   "source": [
    "## 定义 Scene 类\n",
    "创建 `EconomicGainTree` 类来封装动画的构建过程。"
   ]
  },
  {
   "cell_type": "code",
   "execution_count": null,
   "metadata": {},
   "outputs": [],
   "source": [
    "class EconomicGainTree(Scene):\n",
    "    def construct(self):\n",
    "        # 中文模板配置\n",
    "        chinese_template = TexTemplate()\n",
    "        chinese_template.add_to_preamble(r\"\"\"\n",
    "        \\usepackage[UTF8]{ctex}\n",
    "        \\usepackage{amsmath}\n",
    "        \"\"\")"
   ]
  },
  {
   "cell_type": "markdown",
   "metadata": {},
   "source": [
    "## 展示信息增益公式并突出显示经济水平"
   ]
  },
  {
   "cell_type": "code",
   "execution_count": null,
   "metadata": {},
   "outputs": [],
   "source": [
    "        final_gain_gender = MathTex(\n",
    "            r\"IG(\\text{性别}) = 0.029\",\n",
    "            tex_template=chinese_template,\n",
    "            color=PINK\n",
    "        ).scale(0.8)\n",
    "\n",
    "        final_gain_econ = MathTex(\n",
    "            r\"IG(\\text{经济水平}) = 0.678\",\n",
    "            tex_template=chinese_template,\n",
    "            color=BLUE_C\n",
    "        ).scale(0.8)\n",
    "\n",
    "        final_group = VGroup(final_gain_gender, final_gain_econ).arrange(RIGHT, buff=1.5).to_edge(UP, buff=1)\n",
    "        self.play(Write(final_group))\n",
    "\n",
    "        self.play(\n",
    "            final_gain_econ.animate.scale(1.3).set_color(BLUE_C).set_stroke(width=2),\n",
    "            final_gain_gender.animate.scale(0.9),\n",
    "            run_time=1\n",
    "        )"
   ]
  },
  {
   "cell_type": "markdown",
   "metadata": {},
   "source": [
    "## 绘制根节点“经济水平”"
   ]
  },
  {
   "cell_type": "code",
   "execution_count": null,
   "metadata": {},
   "outputs": [],
   "source": [
    "        oval = Ellipse(width=2.4, height=1.0, color=BLUE_C).move_to(DOWN * -1.5)\n",
    "        oval_text = Text(\"经济水平\", font=\"SimHei\", font_size=32, color=BLUE).move_to(oval.get_center())\n",
    "        self.play(Create(oval), FadeIn(oval_text))\n",
    "        self.wait(0.5)"
   ]
  },
  {
   "cell_type": "markdown",
   "metadata": {},
   "source": [
    "## 从根节点分出三条分支：高、中、低"
   ]
  },
  {
   "cell_type": "code",
   "execution_count": null,
   "metadata": {},
   "outputs": [],
   "source": [
    "        offset_list = [-2.5, 0, 2.5]\n",
    "        lines = VGroup()\n",
    "        for offset_x in offset_list:\n",
    "            start = oval.get_bottom() + DOWN * 0.1\n",
    "            end = start + DOWN * 1.0 + RIGHT * offset_x\n",
    "            line = Line(start, end, color=WHITE)\n",
    "            lines.add(line)\n",
    "        self.play(Create(lines))\n",
    "        self.wait()"
   ]
  },
  {
   "cell_type": "markdown",
   "metadata": {},
   "source": [
    "## 左移整体树形结构，为后续表格腾出空间"
   ]
  },
  {
   "cell_type": "code",
   "execution_count": null,
   "metadata": {},
   "outputs": [],
   "source": [
    "        tree_group = VGroup(oval, oval_text, lines)\n",
    "        self.play(\n",
    "            tree_group.animate.shift(LEFT * 3.0),\n",
    "            final_gain_econ.animate.shift(LEFT * 5.4),\n",
    "            FadeOut(final_gain_gender),\n",
    "            run_time=1\n",
    "        )\n",
    "        self.wait(1)"
   ]
  },
  {
   "cell_type": "markdown",
   "metadata": {},
   "source": [
    "## 表格绘制函数\n",
    "用于绘制每个子集的数据表格。"
   ]
  },
  {
   "cell_type": "code",
   "execution_count": null,
   "metadata": {},
   "outputs": [],
   "source": [
    "        data = [\n",
    "            [\"男\", \"高\", \"0\"], [\"女\", \"中\", \"0\"], [\"男\", \"低\", \"1\"], [\"女\", \"高\", \"0\"], [\"男\", \"高\", \"0\"],\n",
    "            [\"男\", \"中\", \"0\"], [\"男\", \"中\", \"1\"], [\"女\", \"中\", \"0\"], [\"女\", \"低\", \"1\"], [\"女\", \"中\", \"0\"],\n",
    "            [\"女\", \"高\", \"0\"], [\"男\", \"低\", \"1\"], [\"女\", \"低\", \"1\"], [\"男\", \"高\", \"0\"], [\"男\", \"高\", \"0\"]\n",
    "        ]\n",
    "\n",
    "        def create_table(label, filtered_data):\n",
    "            return Table(\n",
    "                filtered_data,\n",
    "                include_outer_lines=True,\n",
    "                col_labels=[\n",
    "                    Text(\"性别\", font=\"SimHei\"),\n",
    "                    Text(\"经济\", font=\"SimHei\"),\n",
    "                    Text(\"label\", font=\"SimHei\")\n",
    "                ],\n",
    "                top_left_entry=Text(\"\", font=\"SimHei\")\n",
    "            ).scale(0.4).move_to(RIGHT * 3.5 + DOWN * 0.5)"
   ]
  }
 ],
 "metadata": {
  "kernelspec": {
   "display_name": "Python 3",
   "language": "python",
   "name": "python3"
  },
  "language_info": {
   "name": "python",
   "version": ""
  }
 },
 "nbformat": 4,
 "nbformat_minor": 5
}
