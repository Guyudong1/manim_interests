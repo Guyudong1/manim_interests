{
 "cells": [
  {
   "cell_type": "markdown",
   "metadata": {},
   "source": [
    "# 分裂标准公式可视化\n",
    "使用 Manim 可视化展示信息增益（IG）、信息增益率（GR）、基尼指数（Gini）三个常见的特征选择指标。"
   ]
  },
  {
   "cell_type": "code",
   "execution_count": null,
   "metadata": {},
   "outputs": [],
   "source": [
    "from manim import *"
   ]
  },
  {
   "cell_type": "markdown",
   "metadata": {},
   "source": [
    "## 定义主类\n",
    "使用 `Scene` 创建动画类 `InfoGainFormulas`，包括所有公式的展示与排列动画。"
   ]
  },
  {
   "cell_type": "code",
   "execution_count": null,
   "metadata": {},
   "outputs": [],
   "source": [
    "class InfoGainFormulas(Scene):\n",
    "    def construct(self):"
   ]
  },
  {
   "cell_type": "markdown",
   "metadata": {},
   "source": [
    "### 设置字体样式\n",
    "- 中文使用微软雅黑加粗\n",
    "- 英文公式使用 Microsoft YaHei 并设置斜体风格"
   ]
  },
  {
   "cell_type": "code",
   "execution_count": null,
   "metadata": {},
   "outputs": [],
   "source": [
    "        cn_font_style = dict(font=\"Microsoft YaHei\", weight=BOLD, font_size=42, color=GREEN_B)\n",
    "        en_font_style = dict(font=\"Microsoft YaHei\", font_size=38, slant=ITALIC, color=GREEN_B)"
   ]
  },
  {
   "cell_type": "markdown",
   "metadata": {},
   "source": [
    "### 构建信息增益公式 IG(X=x)=H(S)-H(S|X=x)"
   ]
  },
  {
   "cell_type": "code",
   "execution_count": null,
   "metadata": {},
   "outputs": [],
   "source": [
    "        label1_cn = Text(\"信息增益：\", **cn_font_style)\n",
    "        formula1_en = Text(\"IG(X=x)=H(S)-H(S|X=x)\", **en_font_style)\n",
    "        formula1 = VGroup(label1_cn, formula1_en).arrange(RIGHT, buff=0.2)"
   ]
  },
  {
   "cell_type": "markdown",
   "metadata": {},
   "source": [
    "### 构建信息增益率公式 GR(X) = IG(X=x)/IV(X=x) = [H(S)-H(S|X=x)]/H(X=x)"
   ]
  },
  {
   "cell_type": "code",
   "execution_count": null,
   "metadata": {},
   "outputs": [],
   "source": [
    "        label2_prefix = Text(\"信息增益率：\", **cn_font_style)\n",
    "        label2_en = Text(\"GR(X)=\", **en_font_style)\n",
    "        label2 = VGroup(label2_prefix, label2_en).arrange(RIGHT, buff=0.2)\n",
    "\n",
    "        numerator1 = Text(\"IG(X=x)\", **en_font_style)\n",
    "        denominator1 = Text(\"IV(X=x)\", **en_font_style)\n",
    "        max_width1 = max(numerator1.width, denominator1.width)\n",
    "        line1 = Line(LEFT * max_width1 / 2, RIGHT * max_width1 / 2, color=GREEN_B)\n",
    "        frac1 = VGroup(numerator1, line1, denominator1).arrange(DOWN, buff=0.12)\n",
    "\n",
    "        numerator2 = Text(\"H(S)-H(S|X=x)\", **en_font_style)\n",
    "        denominator2 = Text(\"H(X=x)\", **en_font_style)\n",
    "        max_width2 = max(numerator2.width, denominator2.width)\n",
    "        line2 = Line(LEFT * max_width2 / 2, RIGHT * max_width2 / 2, color=GREEN_B)\n",
    "        frac2 = VGroup(numerator2, line2, denominator2).arrange(DOWN, buff=0.12)\n",
    "\n",
    "        eq_sign = Text(\"=\", **en_font_style)\n",
    "        gain_ratio_group = VGroup(label2, frac1, eq_sign, frac2).arrange(RIGHT, buff=0.1)"
   ]
  },
  {
   "cell_type": "markdown",
   "metadata": {},
   "source": [
    "### 构建基尼指数公式 Gini(S) = 1 - Σ(pᵢ²)"
   ]
  },
  {
   "cell_type": "code",
   "execution_count": null,
   "metadata": {},
   "outputs": [],
   "source": [
    "        label3_cn = Text(\"基尼指数：\", **cn_font_style)\n",
    "        formula3_en = Text(\"Gini(S)=1-Σ(pᵢ²)\", **en_font_style)\n",
    "        formula3 = VGroup(label3_cn, formula3_en).arrange(RIGHT, buff=0.2)"
   ]
  },
  {
   "cell_type": "markdown",
   "metadata": {},
   "source": [
    "### 排列所有公式并整体对齐居中"
   ]
  },
  {
   "cell_type": "code",
   "execution_count": null,
   "metadata": {},
   "outputs": [],
   "source": [
    "        gain_ratio_group.move_to(ORIGIN)\n",
    "        formula1.next_to(gain_ratio_group, UP, buff=1)\n",
    "        formula3.next_to(gain_ratio_group, DOWN, buff=1)\n",
    "\n",
    "        formula1.align_to(label2_prefix, LEFT)\n",
    "        formula3.align_to(label2_prefix, LEFT)\n",
    "\n",
    "        all_formulas = VGroup(formula1, gain_ratio_group, formula3)\n",
    "        all_formulas.shift(UP * 0.05 + RIGHT * 0.4)"
   ]
  },
  {
   "cell_type": "markdown",
   "metadata": {},
   "source": [
    "### 播放动画展示公式"
   ]
  },
  {
   "cell_type": "code",
   "execution_count": null,
   "metadata": {},
   "outputs": [],
   "source": [
    "        self.play(Write(formula1))\n",
    "        self.wait(0.3)\n",
    "        self.play(Write(gain_ratio_group))\n",
    "        self.wait(0.3)\n",
    "        self.play(Write(formula3))\n",
    "        self.wait(1)"
   ]
  }
 ],
 "metadata": {
  "kernelspec": {
   "display_name": "Python 3",
   "language": "python",
   "name": "python3"
  },
  "language_info": {
   "name": "python",
   "version": "3.x"
  }
 },
 "nbformat": 4,
 "nbformat_minor": 5
}
