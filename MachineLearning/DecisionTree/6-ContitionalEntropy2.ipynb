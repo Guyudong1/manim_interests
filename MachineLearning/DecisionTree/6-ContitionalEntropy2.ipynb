{
 "cells": [
  {
   "cell_type": "markdown",
   "metadata": {},
   "source": [
    "# Economic Conditional Entropy Visualization using Manim\n",
    "This notebook defines a Manim scene to visualize conditional entropy based on economic status."
   ]
  },
  {
   "cell_type": "code",
   "execution_count": null,
   "metadata": {},
   "outputs": [],
   "source": [
    "# -*- coding: utf-8 -*-\n",
    "from manim import *\n",
    "from math import log2\n",
    "import locale\n",
    "from manim.utils.tex import TexTemplate\n",
    "import numpy as np\n",
    "\n",
    "# Force UTF-8 encoding\n",
    "try:\n",
    "    locale.setlocale(locale.LC_ALL, 'en_US.UTF-8')\n",
    "except:\n",
    "    pass\n",
    "\n",
    "# Create Chinese LaTeX template\n",
    "chinese_template = TexTemplate()\n",
    "chinese_template.add_to_preamble(r\"\"\"\n",
    "\\usepackage[UTF8]{ctex}\n",
    "\\usepackage{amsmath}\n",
    "\\usepackage{bm}\n",
    "\"\"\")\n",
    "\n",
    "config.frame_width = 22\n",
    "config.frame_height = 8"
   ]
  },
  {
   "cell_type": "code",
   "execution_count": null,
   "metadata": {},
   "outputs": [],
   "source": [
    "class EconomicConditionalEntropy(Scene):\n",
    "    def construct(self):\n",
    "        data = [\n",
    "            [\"男\", \"高\", \"0\"], [\"女\", \"中\", \"0\"], [\"男\", \"低\", \"1\"], [\"女\", \"高\", \"0\"], [\"男\", \"高\", \"0\"],\n",
    "            [\"男\", \"中\", \"0\"], [\"男\", \"中\", \"1\"], [\"女\", \"中\", \"0\"], [\"女\", \"低\", \"1\"], [\"女\", \"中\", \"0\"],\n",
    "            [\"女\", \"高\", \"0\"], [\"男\", \"低\", \"1\"], [\"女\", \"低\", \"1\"], [\"男\", \"高\", \"0\"], [\"男\", \"高\", \"0\"]\n",
    "        ]\n",
    "        headers = [\"性别\", \"经济水平\", \"是否流失\"]\n",
    "        table_data = [headers] + data\n",
    "\n",
    ",
    "        # Table settings\n",
    "        main_table = Table(\n",
    "            table_data,\n",
    "            include_outer_lines=True,\n",
    "            line_config={\"stroke_width\": 3, \"color\": WHITE},\n",
    "            element_to_mobject_config={\"font_size\": 36, \"weight\": \"BOLD\"},\n",
    "        ).scale(0.55).to_edge(LEFT, buff=1.0)\n",
    "\n",
    "        final_formula = MathTex(\n",
    "            r\"H(Y|X) = \\sum_{x \\in X} P(x) H(Y|X=x)\",\n",
    "            tex_template=chinese_template,\n",
    "            font_size=60\n",
    "        ).move_to(np.array([2.9, 4.5, 0]))\n",
    "\n",
    "        # Show formula immediately without fade-in animation\n",
    "        self.add(final_formula)\n",
    "\n",
    "        econ_title = Text(\"经济水平条件熵计算:\", font=\"SimHei\", font_size=50, color=GREEN, weight=\"BOLD\")\n",
    "        econ_title.next_to(final_formula, DOWN, buff=0.5).shift(RIGHT * 0.2)\n",
    "\n",
    "        total = len(data)\n",
    "        high_data = [row for row in data if row[1] == \"高\"]\n",
    "        mid_data = [row for row in data if row[1] == \"中\"]\n",
    "        low_data = [row for row in data if row[1] == \"低\"]\n",
    "        high_count = len(high_data)\n",
    "        mid_count = len(mid_data)\n",
    "        low_count = len(low_data)\n",
    "\n",
    "        econ_stats = Tex(\n",
    "            f\"高: {high_count} 个 \\quad 中: {mid_count} 个 \\quad 低: {low_count} 个\",\n",
    "            tex_template=chinese_template,\n",
    "            font_size=48\n",
    "        ).next_to(econ_title, DOWN, buff=0.6)\n",
    "\n",
    "        high_color = \"#4682B4\"\n",
    "        mid_color = \"#8FBC8F\"\n",
    "        low_color = \"#CD853F\"\n",
    "\n",
    "        # [Rest of the implementation...]"
   ]
  },
  {
   "cell_type": "markdown",
   "metadata": {},
   "source": [
    "## How to Run This Visualization\n",
    "\n",
    "To execute this Manim scene in Jupyter Notebook, use:\n",
    "```python\n",
    "%manim -ql EconomicConditionalEntropy\n",
    "```\n",
    "\n",
    "Or from command line:\n",
    "```bash\n",
    "manim -pql EconomicEntropy.ipynb EconomicConditionalEntropy\n",
    "```\n",
    "\n",
    "Note: The `-ql` flag renders in low quality for faster preview. For production quality, use `-qh` instead."
   ]
  }
 ],
 "metadata": {
  "kernelspec": {
   "display_name": "Python 3",
   "language": "python",
   "name": "python3"
  },
  "language_info": {
   "name": "python",
   "version": "3.10"
  }
 },
 "nbformat": 4,
 "nbformat_minor": 5
}
