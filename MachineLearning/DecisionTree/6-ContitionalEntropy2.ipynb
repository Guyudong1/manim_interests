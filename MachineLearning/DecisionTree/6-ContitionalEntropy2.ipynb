{
 "cells": [
  {
   "cell_type": "markdown",
   "metadata": {},
   "source": [
    "# Economic Conditional Entropy Visualization using Manim\n",
    "This notebook defines a Manim scene to visualize conditional entropy based on economic level."
   ]
  },
  {
   "cell_type": "code",
   "execution_count": null,
   "metadata": {},
   "outputs": [],
   "source": [
    "# -*- coding: utf-8 -*-",
    "from manim import *",
    "from math import log2",
    "import locale",
    "from manim.utils.tex import TexTemplate",
    "import numpy as np",
    "",
    "# 强制使用 UTF-8 编码",
    "try:",
    "    locale.setlocale(locale.LC_ALL, 'en_US.UTF-8')",
    "except:",
    "    pass",
    "",
    "# 创建支持中文的 LaTeX 模板",
    "chinese_template = TexTemplate()",
    "chinese_template.add_to_preamble(r\"\"\"",
    "\\usepackage[UTF8]{ctex}",
    "\\usepackage{amsmath}",
    "\\usepackage{bm}",
    "\"\"\")",
    "",
    "config.frame_width = 22",
    "config.frame_height = 8"
   ]
  },
  {
   "cell_type": "code",
   "execution_count": null,
   "metadata": {},
   "outputs": [],
   "source": [
     "class EconomicConditionalEntropy(Scene):",
     "    def construct(self):"
   ]
  },
  {
   "cell_type": "code",
   "execution_count": null,
   "metadata": {},
   "outputs": [],
   "source": [
     "# （⚠️ 此处请继续粘贴你后续 def construct(self) 中的所有代码行，逐行作为字符串）",
     "# 比如像这样：",
     "        data = [",
     "            [\"男\", \"高\", \"0\"], [\"女\", \"中\", \"0\"], [\"男\", \"低\", \"1\"], ...",
     "        ]",
     "# ...（省略部分）"
   ]
  },
  {
   "cell_type": "markdown",
   "metadata": {},
   "source": [
    "⚠️ 如果你想要在 Jupyter 中执行 Manim Scene，请使用如下命令（需确保配置好环境）：\n",
    "```python\n",
    "%manim -ql EconomicConditionalEntropy\n",
    "```\n",
    "或使用 CLI：\n",
    "```bash\n",
    "manim -pql EconomicEntropy.ipynb EconomicConditionalEntropy\n",
    "```"
   ]
  }
 ],
 "metadata": {
  "kernelspec": {
   "display_name": "Python 3",
   "language": "python",
   "name": "python3"
  },
  "language_info": {
   "name": "python",
   "version": "3.10"
  }
 },
 "nbformat": 4,
 "nbformat_minor": 5
}
