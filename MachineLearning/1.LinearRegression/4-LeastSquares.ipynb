{
  "cells": [
    {
      "cell_type": "markdown",
      "metadata": {},
      "source": [
        "# 最小二乘法可视化演示\n",
        "使用 Manim 实现矩阵解析解 + 实际拟合数据点和回归线的演示动画"
      ]
    },
    {
      "cell_type": "code",
      "execution_count": null,
      "metadata": {},
      "outputs": [],
      "source": [
        "from manim import *\n",
        "from manim.utils.tex import TexTemplate\n\n",
        "class LeastSquaresEnumeration(Scene):\n",
        "    def construct(self):\n",
        "        tex_template = TexTemplate()\n",
        "        tex_template.add_to_preamble(r\"\\usepackage{ctex}\")\n\n",
        "        title = Tex(r\"\\textbf{矩阵解析解：}\", tex_template=tex_template, color=RED).scale(1.1)\n",
        "        formula = MathTex(\n",
        "            r\"\\boldsymbol{\\hat{\\beta}} = (\\boldsymbol{X}^\\top \\boldsymbol{X})^{-1} \\boldsymbol{X}^\\top \\boldsymbol{y}\",\n",
        "            tex_template=tex_template\n",
        "        ).scale(1.1)\n",
        "        formula.set_color_by_tex(r\"\\hat{\\beta}\", YELLOW)\n",
        "        formula.set_color_by_tex(r\"X^\\top\", BLUE)\n",
        "        formula.set_color_by_tex(r\"y\", RED)\n",
        "        formula_with_title = VGroup(title, formula).arrange(RIGHT, buff=0.3).to_edge(UP, buff=0.7).shift(RIGHT*2.0)\n",
        "        self.play(Write(formula_with_title))\n",
        "        self.wait(1)\n\n",
        "        axes = Axes(\n",
        "            x_range=[0, 5], y_range=[0, 5], x_length=5, y_length=5,\n",
        "            axis_config={\"include_numbers\": True}\n",
        "        ).scale(0.8).to_corner(DL, buff=0.8).shift(DOWN*1.0)\n",
        "        data_points = [\n",
        "            Dot(axes.coords_to_point(1, 1.2), color=RED),\n",
        "            Dot(axes.coords_to_point(2, 2.3), color=RED),\n",
        "            Dot(axes.coords_to_point(3, 2.9), color=RED),\n",
        "            Dot(axes.coords_to_point(4, 4.2), color=RED),\n",
        "        ]\n",
        "        self.play(Create(axes))\n",
        "        self.play(*[FadeIn(dot) for dot in data_points])\n",
        "        self.wait(1)\n\n",
        "        X = MathTex(r\"X = \\begin{bmatrix} 1 & 1 \\\\ 2 & 1 \\\\ 3 & 1 \\\\ 4 & 1 \\end{bmatrix}\", tex_template=tex_template).scale(0.7)\n",
        "        y = MathTex(r\"y = \\begin{bmatrix} 1.2 \\\\ 2.3 \\\\ 2.9 \\\\ 4.2 \\end{bmatrix}\", tex_template=tex_template).scale(0.7)\n",
        "        X_y_group = VGroup(X, y).arrange(RIGHT, buff=0.4).next_to(formula, DOWN, buff=0.5).shift(LEFT*8.4+UP*0.7)\n",
        "        self.play(Write(X), Write(y))\n",
        "        self.wait(1)\n\n",
        "        xtx = MathTex(r\"X^\\top X = \\begin{bmatrix} 30 & 10 \\\\ 10 & 4 \\end{bmatrix}\", tex_template=tex_template).scale(0.65)\n",
        "        xtx_inv = MathTex(r\"(X^\\top X)^{-1} = \\begin{bmatrix} 1.0 & -2.5 \\\\ -2.5 & 7.5 \\end{bmatrix}\", tex_template=tex_template).scale(0.65)\n",
        "        xty = MathTex(r\"X^\\top y = \\begin{bmatrix} 30.4 \\\\ 10.6 \\end{bmatrix}\", tex_template=tex_template).scale(0.65)\n",
        "        xtx_inv.next_to(xtx, RIGHT, buff=0.3)\n",
        "        xty.next_to(xtx_inv, RIGHT, buff=0.3)\n",
        "        middle_group = VGroup(xtx, xtx_inv, xty)\n",
        "        middle_group.next_to(X_y_group, RIGHT, buff=0.5).align_to(X_y_group, UP*-0.5)\n",
        "        self.play(Write(xtx)); self.wait(0.3)\n",
        "        self.play(Write(xtx_inv)); self.wait(0.3)\n",
        "        self.play(Write(xty)); self.wait(1)\n\n",
        "        beta_calc = MathTex(\n",
        "            r\"\\hat{\\beta} = \"\n",
        "            r\"\\begin{bmatrix} 1.0 & -2.5 \\\\ -2.5 & 7.5 \\end{bmatrix}\"\n",
        "            r\"\\begin{bmatrix} 30.4 \\\\ 10.6 \\end{bmatrix}\"\n",
        "            r\"= \\begin{bmatrix} 0.94 \\\\ 0.30 \\end{bmatrix}\",\n",
        "            tex_template=tex_template\n",
        "        ).scale(0.75).next_to(middle_group, DOWN, buff=0.8)\n",
        "        beta_calc.set_color_by_tex(r\"\\hat{\\beta}\", YELLOW)\n",
        "        self.play(Write(beta_calc))\n",
        "        self.wait(2)\n\n",
        "        final_line = Tex(\"拟合直线：$y = 0.94x + 0.30$\", tex_template=tex_template).scale(0.9).set_color(GREEN)\n",
        "        final_line.next_to(beta_calc, DOWN, buff=0.7)\n",
        "        self.play(Write(final_line))\n",
        "        self.wait(0.5)\n\n",
        "        line = axes.plot(lambda x: 0.94 * x + 0.30, x_range=[0, 5], color=GREEN)\n",
        "        self.play(Create(line), run_time=1.5)\n",
        "        self.wait(2)\n"
      ]
    }
  ],
  "metadata": {
    "kernelspec": {
      "display_name": "Python 3",
      "language": "python",
      "name": "python3"
    },
    "language_info": {
      "name": "python",
      "version": "3.x"
    }
  },
  "nbformat": 4,
  "nbformat_minor": 2
}
