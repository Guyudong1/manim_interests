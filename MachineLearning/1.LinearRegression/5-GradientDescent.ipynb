{
 "cells": [
  {
   "cell_type": "markdown",
   "metadata": {},
   "source": [
    "# 使用 Manim 演示梯度下降的线性回归过程"
   ]
  },
  {
   "cell_type": "code",
   "execution_count": null,
   "metadata": {},
   "outputs": [],
   "source": [
    "from manim import *\n",
    "import numpy as np"
   ]
  },
  {
   "cell_type": "markdown",
   "metadata": {},
   "source": [
    "## 定义梯度下降线性回归动画类"
   ]
  },
  {
   "cell_type": "code",
   "execution_count": null,
   "metadata": {},
   "outputs": [],
   "source": [
    "class GradientDescentLinearRegression(Scene):\n",
    "    def construct(self):\n",
    "        # 设置随机种子，生成带噪点的数据\n",
    "        np.random.seed(42)\n",
    "        x_data = np.linspace(0, 6, 7)\n",
    "        y_data = 2 * x_data + 1 + np.random.normal(0, 2, size=x_data.shape)\n",
    "\n",
    "        # 创建坐标轴，包含箭头与数字\n",
    "        axes = Axes(\n",
    "            x_range=[0, 8, 1],\n",
    "            y_range=[0, 15, 3],\n",
    "            x_length=10,\n",
    "            y_length=5,\n",
    "            tips=True,\n",
    "            axis_config={\"include_numbers\": True}\n",
    "        ).to_edge(DOWN)\n",
    "\n",
    "        # 显示数据点\n",
    "        points = VGroup(*[\n",
    "            Dot(axes.coords_to_point(x, y), radius=0.05, color=BLUE)\n",
    "            for x, y in zip(x_data, y_data)\n",
    "        ])\n",
    "\n",
    "        self.add(axes, points)\n",
    "\n",
    "        # 初始化权重与偏置\n",
    "        w, b = 0.0, 0.0\n",
    "        learning_rate = 0.01\n",
    "        epochs = 100\n",
    "\n",
    "        # 获取当前回归线对象的函数\n",
    "        def get_line(w, b):\n",
    "            graph = axes.plot(lambda x: w * x + b, x_range=[0, 7])\n",
    "            graph.set_color(RED)\n",
    "            return graph\n",
    "\n",
    "        # 显示初始回归线\n",
    "        line = get_line(w, b)\n",
    "        self.add(line)\n",
    "\n",
    "        # 迭代更新并展示回归线\n",
    "        for epoch in range(epochs):\n",
    "            y_pred = w * x_data + b\n",
    "            dw = (-2 / len(x_data)) * np.sum(x_data * (y_data - y_pred))\n",
    "            db = (-2 / len(x_data)) * np.sum(y_data - y_pred)\n",
    "\n",
    "            w -= learning_rate * dw\n",
    "            b -= learning_rate * db\n",
    "\n",
    "            new_line = get_line(w, b)\n",
    "            self.play(Transform(line, new_line), run_time=0.1)\n",
    "\n",
    "        # 显示最终参数文本\n",
    "        param_text = MathTex(f\"y = {w:.2f}x + {b:.2f}\").to_corner(UP).shift(DOWN*0.8)\n",
    "        self.play(Write(param_text))\n",
    "        self.wait(2)"
   ]
  }
 ],
 "metadata": {
  "kernelspec": {
   "display_name": "Python 3",
   "language": "python",
   "name": "python3"
  },
  "language_info": {
   "name": "python",
   "version": "3.10"
  }
 },
 "nbformat": 4,
 "nbformat_minor": 5
}
