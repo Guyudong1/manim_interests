{
 "cells": [
  {
   "cell_type": "markdown",
   "metadata": {},
   "source": [
    "# 🎬 Manim 动画：拟合与回归解释\n",
    "这个动画演示了“拟合/回归”的区别：\n",
    "- **拟合**（技术层面）：调整模型参数让曲线更贴近数据点。\n",
    "- **回归**（应用层面）：用模型描述变量之间的关系，并用于预测或解释。"
   ]
  },
  {
   "cell_type": "code",
   "execution_count": null,
   "metadata": {},
   "outputs": [],
   "source": [
    "from manim import *\n",
    "\n",
    "class FR(Scene):\n",
    "    def construct(self):\n",
    "        # 主标题：拟合/回归\n",
    "        t1 = Text(\"拟合/回归\", font=\"Microsoft YaHei\", font_size=70, color=RED)\n",
    "        t1.move_to(ORIGIN)\n",
    "        self.play(LaggedStart(\n",
    "            FadeIn(t1, shift=RIGHT),\n",
    "            lag_ratio=0.15\n",
    "        ))\n",
    "        self.wait(3)\n",
    "\n",
    "        # 平滑上移标题\n",
    "        self.play(t1.animate.shift(UP * 0.9).set_rate_func(smooth), run_time=2.5)\n",
    "\n",
    "        # 拟合的定义\n",
    "        t2 = Text(\n",
    "            \"拟合是“怎么调整模型参数让曲线更贴近数据点”（技术层面）\",\n",
    "            font=\"Microsoft YaHei\", font_size=30, color=ORANGE\n",
    "        )\n",
    "        # 回归的定义\n",
    "        t3 = Text(\n",
    "            \"回归是“用模型描述变量之间的关系，并用于预测或解释”（应用层面）\",\n",
    "            font=\"Microsoft YaHei\", font_size=30, color=ORANGE\n",
    "        )\n",
    "\n",
    "        # 布局位置\n",
    "        t2.next_to(t1, DOWN, buff=1.0)\n",
    "        t3.next_to(t2, DOWN, buff=0.4)\n",
    "\n",
    "        # 依次显示解释文字\n",
    "        self.play(LaggedStart(\n",
    "            FadeIn(t2, shift=RIGHT),\n",
    "            lag_ratio=0.15\n",
    "        ))\n",
    "        self.play(LaggedStart(\n",
    "            FadeIn(t3, shift=RIGHT),\n",
    "            lag_ratio=0.15\n",
    "        ))\n",
    "        self.wait(2)"
   ]
  }
 ],
 "metadata": {
  "kernelspec": {
   "display_name": "Python 3",
   "language": "python",
   "name": "python3"
  },
  "language_info": {
   "name": "python",
   "version": "3.x"
  }
 },
 "nbformat": 4,
 "nbformat_minor": 5
}
